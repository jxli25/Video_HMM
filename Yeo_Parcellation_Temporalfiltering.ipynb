{
 "cells": [
  {
   "cell_type": "code",
   "execution_count": null,
   "id": "ac2d91a8-2bb6-478f-9700-55c4ba6c11e6",
   "metadata": {},
   "outputs": [],
   "source": [
    "# Imports\n",
    "from nilearn import datasets\n",
    "\n",
    "import matplotlib.pyplot as plt\n",
    "import numpy"
   ]
  },
  {
   "cell_type": "code",
   "execution_count": null,
   "id": "676e22ca-b87f-4b92-b5a7-354f32f22708",
   "metadata": {},
   "outputs": [],
   "source": [
    "#### MAIN SCRIPT\n",
    "\n",
    "# Get example fMRI data from nilearn\n",
    "data1 = datasets.fetch_development_fmri(n_subjects=1, reduce_confounds=True)\n",
    "fmri_filename1 = '/Users/judy/Documents/Research/Code/test_sub.nii'\n",
    "\n",
    "#Get Atlas\n",
    "dataset = datasets.fetch_atlas_yeo_2011(data_dir=None, url=None, resume=True, verbose=1)\n",
    "atlas = dataset.thick_17  # Using the 17-network version\n",
    "label_names = [f\"Network_{i}\" for i in range(1, 18)]  # Create network labels 1-17\n",
    "\n",
    "from nilearn.maskers import NiftiLabelsMasker\n",
    "#Settings for NiftiLabelsMasker\n",
    "masker = NiftiLabelsMasker( #class w variables and functions (e.g. fit_transform), \n",
    "#Preprocessing settings\n",
    "    labels_img=atlas,\n",
    "    standardize='zscore_sample', #\"zscore_sample\", #Z scores the voxels to make mean = 0\n",
    "    memory=\"nilearn_cache\",\n",
    "    verbose=5,\n",
    "#Temporal filter settings\n",
    "    high_pass=0.01,  # High pass frequency in Hz\n",
    "    low_pass=0.15,   # Low pass frequency in Hz\n",
    "    t_r=0.8         # Repetition time in seconds\n",
    ") \n",
    "time_series = masker.fit_transform(fmri_filename1) #array of shape (n_timepoints, n_labels), containing the \"parcel-mean\" values at each time point\n",
    "# Save parcellated data\n",
    "\n",
    "numpy.savetxt(fname='Yeo_parcellated_test_sub.txt', X=time_series)"
   ]
  },
  {
   "cell_type": "code",
   "execution_count": null,
   "id": "9b95c1dd-c36c-4268-b33f-7da7d80f8309",
   "metadata": {},
   "outputs": [],
   "source": [
    "###2) ROI POST PARCELLATION\n",
    "\n",
    "# Step 1: Load the Parcellated File (already nmuPy.ndarray with 327 rows (time), 100 columns(ROIs))\n",
    "file_path_roi = '/Users/judy/Yeo_parcellated_test_sub.txt'\n",
    "roi_data = numpy.loadtxt(file_path_roi)\n",
    "\n",
    "# Step 2: Specify the coordinate of the ROI (x of graph)\n",
    "roi_coord = (1)  # Adjust these coordinates as needed\n",
    "\n",
    "# Step 4: Extract the time series for the specified voxel\n",
    "time_series_roi = roi_data[:, roi_coord]  # This will give you the time series\n",
    "\n",
    "# Step 5: Remove NaN values if present\n",
    "time_series_roi = time_series_roi[~numpy.isnan(time_series_roi)]\n",
    "\n",
    "## Graphing\n",
    "# Step 6: Plot the line graph\n",
    "time_x_roi = numpy.arange(1,len(time_series_roi)+1)\n",
    "intensity_y_roi = time_series_roi\n",
    "\n",
    "plt.plot(time_x_roi, intensity_y_roi, color='g')\n",
    "\n",
    "plt.xlabel('Time (327 time points total)')\n",
    "plt.ylabel('Intensity of Activation')\n",
    "plt.title(f'Intensity of Activation of ROI #{roi_coord} Post-Yeo parcellation, over Time')\n",
    "\n",
    "plt.show()"
   ]
  }
 ],
 "metadata": {
  "kernelspec": {
   "display_name": "Python 3 (ipykernel)",
   "language": "python",
   "name": "python3"
  },
  "language_info": {
   "codemirror_mode": {
    "name": "ipython",
    "version": 3
   },
   "file_extension": ".py",
   "mimetype": "text/x-python",
   "name": "python",
   "nbconvert_exporter": "python",
   "pygments_lexer": "ipython3",
   "version": "3.12.4"
  }
 },
 "nbformat": 4,
 "nbformat_minor": 5
}
