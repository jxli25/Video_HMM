{
 "cells": [
  {
   "cell_type": "code",
   "execution_count": 3,
   "id": "56b3abd7-b456-4761-8586-ce8d5b9fc9ae",
   "metadata": {},
   "outputs": [],
   "source": [
    "#Imports\n",
    "import matplotlib.pyplot as plt\n",
    "import numpy\n",
    "\n",
    "from nilearn import datasets\n",
    "from nilearn.maskers import NiftiLabelsMasker"
   ]
  },
  {
   "cell_type": "code",
   "execution_count": 7,
   "id": "448b847c-7468-40fa-b7ca-ffc738fbc90c",
   "metadata": {},
   "outputs": [],
   "source": [
    "### 1) Import data\n",
    "\n",
    "# Get parcellation/atlas\n",
    "dataset = datasets.fetch_atlas_schaefer_2018(n_rois=100, yeo_networks=7, resolution_mm=1, data_dir=None, base_url=None, resume=True, verbose=1) #fetch_atlas_harvard_oxford(\"cort-maxprob-thr25-2mm\")\n",
    "atlas = dataset.maps #Nifti Image containing the atlas/parcellation\n",
    "label_names = dataset.labels\n",
    "\n",
    "# Get example fMRI data from nilearn\n",
    "data1 = datasets.fetch_development_fmri(n_subjects=1, reduce_confounds=True)\n",
    "fmri_filename1 = '/Users/judy/Documents/Research/Code/test_sub.nii'"
   ]
  },
  {
   "cell_type": "code",
   "execution_count": 9,
   "id": "9b1f5f64-5895-42cf-bb2d-683966d5cfd0",
   "metadata": {},
   "outputs": [
    {
     "name": "stdout",
     "output_type": "stream",
     "text": [
      "[NiftiLabelsMasker.wrapped] loading data from /Users/judy/nilearn_data/schaefer_2018/Schaefer2018_100Parcels_7Networks_order_FSLMNI152_1mm.nii.gz\n"
     ]
    },
    {
     "ename": "KeyboardInterrupt",
     "evalue": "",
     "output_type": "error",
     "traceback": [
      "\u001b[0;31m---------------------------------------------------------------------------\u001b[0m",
      "\u001b[0;31mKeyboardInterrupt\u001b[0m                         Traceback (most recent call last)",
      "Cell \u001b[0;32mIn[9], line 17\u001b[0m\n\u001b[1;32m      1\u001b[0m \u001b[38;5;66;03m### 2) Parcellate using NiftiLabelsMasker\u001b[39;00m\n\u001b[1;32m      2\u001b[0m \n\u001b[1;32m      3\u001b[0m \u001b[38;5;66;03m#Settings for NiftiLabelsMasker\u001b[39;00m\n\u001b[1;32m      5\u001b[0m masker \u001b[38;5;241m=\u001b[39m NiftiLabelsMasker( \u001b[38;5;66;03m#class w variables and functions (e.g. fit_transform), \u001b[39;00m\n\u001b[1;32m      6\u001b[0m \u001b[38;5;66;03m#Preprocessing settings\u001b[39;00m\n\u001b[1;32m      7\u001b[0m     labels_img\u001b[38;5;241m=\u001b[39matlas,\n\u001b[0;32m   (...)\u001b[0m\n\u001b[1;32m     14\u001b[0m     t_r\u001b[38;5;241m=\u001b[39m\u001b[38;5;241m0.8\u001b[39m         \u001b[38;5;66;03m# Repetition time in seconds\u001b[39;00m\n\u001b[1;32m     15\u001b[0m     ) \n\u001b[0;32m---> 17\u001b[0m time_series \u001b[38;5;241m=\u001b[39m masker\u001b[38;5;241m.\u001b[39mfit_transform(fmri_filename1) \u001b[38;5;66;03m#array of shape (n_timepoints, n_labels), containing the \"parcel-mean\" values at each time point\u001b[39;00m\n\u001b[1;32m     19\u001b[0m \u001b[38;5;66;03m# Save parcellated data\u001b[39;00m\n\u001b[1;32m     20\u001b[0m numpy\u001b[38;5;241m.\u001b[39msavetxt(fname\u001b[38;5;241m=\u001b[39m\u001b[38;5;124m'\u001b[39m\u001b[38;5;124mSchaefer_parcellated_test_sub.txt\u001b[39m\u001b[38;5;124m'\u001b[39m, X\u001b[38;5;241m=\u001b[39mtime_series)\n",
      "File \u001b[0;32m/opt/anaconda3/lib/python3.12/site-packages/sklearn/utils/_set_output.py:295\u001b[0m, in \u001b[0;36m_wrap_method_output.<locals>.wrapped\u001b[0;34m(self, X, *args, **kwargs)\u001b[0m\n\u001b[1;32m    293\u001b[0m \u001b[38;5;129m@wraps\u001b[39m(f)\n\u001b[1;32m    294\u001b[0m \u001b[38;5;28;01mdef\u001b[39;00m \u001b[38;5;21mwrapped\u001b[39m(\u001b[38;5;28mself\u001b[39m, X, \u001b[38;5;241m*\u001b[39margs, \u001b[38;5;241m*\u001b[39m\u001b[38;5;241m*\u001b[39mkwargs):\n\u001b[0;32m--> 295\u001b[0m     data_to_wrap \u001b[38;5;241m=\u001b[39m f(\u001b[38;5;28mself\u001b[39m, X, \u001b[38;5;241m*\u001b[39margs, \u001b[38;5;241m*\u001b[39m\u001b[38;5;241m*\u001b[39mkwargs)\n\u001b[1;32m    296\u001b[0m     \u001b[38;5;28;01mif\u001b[39;00m \u001b[38;5;28misinstance\u001b[39m(data_to_wrap, \u001b[38;5;28mtuple\u001b[39m):\n\u001b[1;32m    297\u001b[0m         \u001b[38;5;66;03m# only wrap the first output for cross decomposition\u001b[39;00m\n\u001b[1;32m    298\u001b[0m         return_tuple \u001b[38;5;241m=\u001b[39m (\n\u001b[1;32m    299\u001b[0m             _wrap_data_with_container(method, data_to_wrap[\u001b[38;5;241m0\u001b[39m], X, \u001b[38;5;28mself\u001b[39m),\n\u001b[1;32m    300\u001b[0m             \u001b[38;5;241m*\u001b[39mdata_to_wrap[\u001b[38;5;241m1\u001b[39m:],\n\u001b[1;32m    301\u001b[0m         )\n",
      "File \u001b[0;32m/opt/anaconda3/lib/python3.12/site-packages/nilearn/maskers/nifti_labels_masker.py:620\u001b[0m, in \u001b[0;36mNiftiLabelsMasker.fit_transform\u001b[0;34m(self, imgs, confounds, sample_mask)\u001b[0m\n\u001b[1;32m    589\u001b[0m \u001b[38;5;28;01mdef\u001b[39;00m \u001b[38;5;21mfit_transform\u001b[39m(\u001b[38;5;28mself\u001b[39m, imgs, confounds\u001b[38;5;241m=\u001b[39m\u001b[38;5;28;01mNone\u001b[39;00m, sample_mask\u001b[38;5;241m=\u001b[39m\u001b[38;5;28;01mNone\u001b[39;00m):\n\u001b[1;32m    590\u001b[0m \u001b[38;5;250m    \u001b[39m\u001b[38;5;124;03m\"\"\"Prepare and perform signal extraction from regions.\u001b[39;00m\n\u001b[1;32m    591\u001b[0m \n\u001b[1;32m    592\u001b[0m \u001b[38;5;124;03m    Parameters\u001b[39;00m\n\u001b[0;32m   (...)\u001b[0m\n\u001b[1;32m    618\u001b[0m \n\u001b[1;32m    619\u001b[0m \u001b[38;5;124;03m    \"\"\"\u001b[39;00m\n\u001b[0;32m--> 620\u001b[0m     \u001b[38;5;28;01mreturn\u001b[39;00m \u001b[38;5;28mself\u001b[39m\u001b[38;5;241m.\u001b[39mfit(imgs)\u001b[38;5;241m.\u001b[39mtransform(\n\u001b[1;32m    621\u001b[0m         imgs, confounds\u001b[38;5;241m=\u001b[39mconfounds, sample_mask\u001b[38;5;241m=\u001b[39msample_mask\n\u001b[1;32m    622\u001b[0m     )\n",
      "File \u001b[0;32m/opt/anaconda3/lib/python3.12/site-packages/nilearn/maskers/nifti_labels_masker.py:574\u001b[0m, in \u001b[0;36mNiftiLabelsMasker.fit\u001b[0;34m(self, imgs, y)\u001b[0m\n\u001b[1;32m    567\u001b[0m \u001b[38;5;28mself\u001b[39m\u001b[38;5;241m.\u001b[39m_reporting_data \u001b[38;5;241m=\u001b[39m {\n\u001b[1;32m    568\u001b[0m     \u001b[38;5;124m\"\u001b[39m\u001b[38;5;124mlabels_image\u001b[39m\u001b[38;5;124m\"\u001b[39m: \u001b[38;5;28mself\u001b[39m\u001b[38;5;241m.\u001b[39m_resampled_labels_img_,\n\u001b[1;32m    569\u001b[0m     \u001b[38;5;124m\"\u001b[39m\u001b[38;5;124mmask\u001b[39m\u001b[38;5;124m\"\u001b[39m: \u001b[38;5;28mself\u001b[39m\u001b[38;5;241m.\u001b[39mmask_img_,\n\u001b[1;32m    570\u001b[0m     \u001b[38;5;124m\"\u001b[39m\u001b[38;5;124mdim\u001b[39m\u001b[38;5;124m\"\u001b[39m: \u001b[38;5;28;01mNone\u001b[39;00m,\n\u001b[1;32m    571\u001b[0m     \u001b[38;5;124m\"\u001b[39m\u001b[38;5;124mimg\u001b[39m\u001b[38;5;124m\"\u001b[39m: imgs,\n\u001b[1;32m    572\u001b[0m }\n\u001b[1;32m    573\u001b[0m \u001b[38;5;28;01mif\u001b[39;00m imgs \u001b[38;5;129;01mis\u001b[39;00m \u001b[38;5;129;01mnot\u001b[39;00m \u001b[38;5;28;01mNone\u001b[39;00m:\n\u001b[0;32m--> 574\u001b[0m     imgs, dims \u001b[38;5;241m=\u001b[39m compute_middle_image(imgs)\n\u001b[1;32m    575\u001b[0m     \u001b[38;5;28mself\u001b[39m\u001b[38;5;241m.\u001b[39m_reporting_data[\u001b[38;5;124m\"\u001b[39m\u001b[38;5;124mimg\u001b[39m\u001b[38;5;124m\"\u001b[39m] \u001b[38;5;241m=\u001b[39m imgs\n\u001b[1;32m    576\u001b[0m     \u001b[38;5;28mself\u001b[39m\u001b[38;5;241m.\u001b[39m_reporting_data[\u001b[38;5;124m\"\u001b[39m\u001b[38;5;124mdim\u001b[39m\u001b[38;5;124m\"\u001b[39m] \u001b[38;5;241m=\u001b[39m dims\n",
      "File \u001b[0;32m/opt/anaconda3/lib/python3.12/site-packages/nilearn/maskers/_utils.py:21\u001b[0m, in \u001b[0;36mcompute_middle_image\u001b[0;34m(img)\u001b[0m\n\u001b[1;32m     19\u001b[0m \u001b[38;5;28;01mdef\u001b[39;00m \u001b[38;5;21mcompute_middle_image\u001b[39m(img):\n\u001b[1;32m     20\u001b[0m \u001b[38;5;250m    \u001b[39m\u001b[38;5;124;03m\"\"\"Compute middle image of timeseries (4D data).\"\"\"\u001b[39;00m\n\u001b[0;32m---> 21\u001b[0m     img, dim \u001b[38;5;241m=\u001b[39m _check_dims(img)\n\u001b[1;32m     22\u001b[0m     \u001b[38;5;28;01mif\u001b[39;00m \u001b[38;5;28mlen\u001b[39m(dim) \u001b[38;5;241m==\u001b[39m \u001b[38;5;241m4\u001b[39m \u001b[38;5;129;01mor\u001b[39;00m \u001b[38;5;28mlen\u001b[39m(dim) \u001b[38;5;241m==\u001b[39m \u001b[38;5;241m5\u001b[39m:\n\u001b[1;32m     23\u001b[0m         img \u001b[38;5;241m=\u001b[39m image\u001b[38;5;241m.\u001b[39mindex_img(img, dim[\u001b[38;5;241m-\u001b[39m\u001b[38;5;241m1\u001b[39m] \u001b[38;5;241m/\u001b[39m\u001b[38;5;241m/\u001b[39m \u001b[38;5;241m2\u001b[39m)\n",
      "File \u001b[0;32m/opt/anaconda3/lib/python3.12/site-packages/nilearn/maskers/_utils.py:15\u001b[0m, in \u001b[0;36m_check_dims\u001b[0;34m(imgs)\u001b[0m\n\u001b[1;32m     13\u001b[0m         \u001b[38;5;28;01mreturn\u001b[39;00m imgs, dim \u001b[38;5;241m+\u001b[39m (\u001b[38;5;241m1\u001b[39m,)\n\u001b[1;32m     14\u001b[0m \u001b[38;5;28;01melse\u001b[39;00m:\n\u001b[0;32m---> 15\u001b[0m     dim \u001b[38;5;241m=\u001b[39m image\u001b[38;5;241m.\u001b[39mload_img(imgs)\u001b[38;5;241m.\u001b[39mshape\n\u001b[1;32m     16\u001b[0m     \u001b[38;5;28;01mreturn\u001b[39;00m imgs, dim\n",
      "File \u001b[0;32m/opt/anaconda3/lib/python3.12/site-packages/nilearn/image/image.py:1392\u001b[0m, in \u001b[0;36mload_img\u001b[0;34m(img, wildcards, dtype)\u001b[0m\n\u001b[1;32m   1355\u001b[0m \u001b[38;5;28;01mdef\u001b[39;00m \u001b[38;5;21mload_img\u001b[39m(img, wildcards\u001b[38;5;241m=\u001b[39m\u001b[38;5;28;01mTrue\u001b[39;00m, dtype\u001b[38;5;241m=\u001b[39m\u001b[38;5;28;01mNone\u001b[39;00m):\n\u001b[1;32m   1356\u001b[0m \u001b[38;5;250m    \u001b[39m\u001b[38;5;124;03m\"\"\"Load a Niimg-like object from filenames or list of filenames.\u001b[39;00m\n\u001b[1;32m   1357\u001b[0m \n\u001b[1;32m   1358\u001b[0m \u001b[38;5;124;03m    .. versionadded:: 0.2.5\u001b[39;00m\n\u001b[0;32m   (...)\u001b[0m\n\u001b[1;32m   1390\u001b[0m \n\u001b[1;32m   1391\u001b[0m \u001b[38;5;124;03m    \"\"\"\u001b[39;00m\n\u001b[0;32m-> 1392\u001b[0m     \u001b[38;5;28;01mreturn\u001b[39;00m check_niimg(img, wildcards\u001b[38;5;241m=\u001b[39mwildcards, dtype\u001b[38;5;241m=\u001b[39mdtype)\n",
      "File \u001b[0;32m/opt/anaconda3/lib/python3.12/site-packages/nilearn/_utils/niimg_conversions.py:315\u001b[0m, in \u001b[0;36mcheck_niimg\u001b[0;34m(niimg, ensure_ndim, atleast_4d, dtype, return_iterator, wildcards)\u001b[0m\n\u001b[1;32m    310\u001b[0m     \u001b[38;5;28;01mreturn\u001b[39;00m ni\u001b[38;5;241m.\u001b[39mimage\u001b[38;5;241m.\u001b[39mconcat_imgs(\n\u001b[1;32m    311\u001b[0m         niimg, ensure_ndim\u001b[38;5;241m=\u001b[39mensure_ndim, dtype\u001b[38;5;241m=\u001b[39mdtype\n\u001b[1;32m    312\u001b[0m     )\n\u001b[1;32m    314\u001b[0m \u001b[38;5;66;03m# Otherwise, it should be a filename or a SpatialImage, we load it\u001b[39;00m\n\u001b[0;32m--> 315\u001b[0m niimg \u001b[38;5;241m=\u001b[39m load_niimg(niimg, dtype\u001b[38;5;241m=\u001b[39mdtype)\n\u001b[1;32m    317\u001b[0m \u001b[38;5;28;01mif\u001b[39;00m ensure_ndim \u001b[38;5;241m==\u001b[39m \u001b[38;5;241m3\u001b[39m \u001b[38;5;129;01mand\u001b[39;00m \u001b[38;5;28mlen\u001b[39m(niimg\u001b[38;5;241m.\u001b[39mshape) \u001b[38;5;241m==\u001b[39m \u001b[38;5;241m4\u001b[39m \u001b[38;5;129;01mand\u001b[39;00m niimg\u001b[38;5;241m.\u001b[39mshape[\u001b[38;5;241m3\u001b[39m] \u001b[38;5;241m==\u001b[39m \u001b[38;5;241m1\u001b[39m:\n\u001b[1;32m    318\u001b[0m     \u001b[38;5;66;03m# \"squeeze\" the image.\u001b[39;00m\n\u001b[1;32m    319\u001b[0m     data \u001b[38;5;241m=\u001b[39m safe_get_data(niimg)\n",
      "File \u001b[0;32m/opt/anaconda3/lib/python3.12/site-packages/nilearn/_utils/niimg.py:127\u001b[0m, in \u001b[0;36mload_niimg\u001b[0;34m(niimg, dtype)\u001b[0m\n\u001b[1;32m    124\u001b[0m niimg \u001b[38;5;241m=\u001b[39m stringify_path(niimg)\n\u001b[1;32m    125\u001b[0m \u001b[38;5;28;01mif\u001b[39;00m \u001b[38;5;28misinstance\u001b[39m(niimg, \u001b[38;5;28mstr\u001b[39m):\n\u001b[1;32m    126\u001b[0m     \u001b[38;5;66;03m# data is a filename, we load it\u001b[39;00m\n\u001b[0;32m--> 127\u001b[0m     niimg \u001b[38;5;241m=\u001b[39m nibabel\u001b[38;5;241m.\u001b[39mload(niimg)\n\u001b[1;32m    128\u001b[0m \u001b[38;5;28;01melif\u001b[39;00m \u001b[38;5;129;01mnot\u001b[39;00m \u001b[38;5;28misinstance\u001b[39m(niimg, nibabel\u001b[38;5;241m.\u001b[39mspatialimages\u001b[38;5;241m.\u001b[39mSpatialImage):\n\u001b[1;32m    129\u001b[0m     \u001b[38;5;28;01mraise\u001b[39;00m \u001b[38;5;167;01mTypeError\u001b[39;00m(\n\u001b[1;32m    130\u001b[0m         \u001b[38;5;124m\"\u001b[39m\u001b[38;5;124mData given cannot be loaded because it is\u001b[39m\u001b[38;5;124m\"\u001b[39m\n\u001b[1;32m    131\u001b[0m         \u001b[38;5;124m\"\u001b[39m\u001b[38;5;124m not compatible with nibabel format:\u001b[39m\u001b[38;5;130;01m\\n\u001b[39;00m\u001b[38;5;124m\"\u001b[39m\n\u001b[1;32m    132\u001b[0m         \u001b[38;5;241m+\u001b[39m _repr_niimgs(niimg, shorten\u001b[38;5;241m=\u001b[39m\u001b[38;5;28;01mTrue\u001b[39;00m)\n\u001b[1;32m    133\u001b[0m     )\n",
      "File \u001b[0;32m/opt/anaconda3/lib/python3.12/site-packages/nibabel/loadsave.py:108\u001b[0m, in \u001b[0;36mload\u001b[0;34m(filename, **kwargs)\u001b[0m\n\u001b[1;32m    106\u001b[0m sniff \u001b[38;5;241m=\u001b[39m \u001b[38;5;28;01mNone\u001b[39;00m\n\u001b[1;32m    107\u001b[0m \u001b[38;5;28;01mfor\u001b[39;00m image_klass \u001b[38;5;129;01min\u001b[39;00m all_image_classes:\n\u001b[0;32m--> 108\u001b[0m     is_valid, sniff \u001b[38;5;241m=\u001b[39m image_klass\u001b[38;5;241m.\u001b[39mpath_maybe_image(filename, sniff)\n\u001b[1;32m    109\u001b[0m     \u001b[38;5;28;01mif\u001b[39;00m is_valid:\n\u001b[1;32m    110\u001b[0m         img \u001b[38;5;241m=\u001b[39m image_klass\u001b[38;5;241m.\u001b[39mfrom_filename(filename, \u001b[38;5;241m*\u001b[39m\u001b[38;5;241m*\u001b[39mkwargs)\n",
      "File \u001b[0;32m/opt/anaconda3/lib/python3.12/site-packages/nibabel/filebasedimages.py:476\u001b[0m, in \u001b[0;36mFileBasedImage.path_maybe_image\u001b[0;34m(klass, filename, sniff, sniff_max)\u001b[0m\n\u001b[1;32m    474\u001b[0m \u001b[38;5;28;01mif\u001b[39;00m sniff \u001b[38;5;129;01mis\u001b[39;00m \u001b[38;5;129;01mnot\u001b[39;00m \u001b[38;5;28;01mNone\u001b[39;00m \u001b[38;5;129;01mand\u001b[39;00m \u001b[38;5;28mlen\u001b[39m(sniff[\u001b[38;5;241m0\u001b[39m]) \u001b[38;5;241m<\u001b[39m klass\u001b[38;5;241m.\u001b[39m_meta_sniff_len:\n\u001b[1;32m    475\u001b[0m     sniff \u001b[38;5;241m=\u001b[39m \u001b[38;5;28;01mNone\u001b[39;00m\n\u001b[0;32m--> 476\u001b[0m sniff \u001b[38;5;241m=\u001b[39m klass\u001b[38;5;241m.\u001b[39m_sniff_meta_for(filename, \u001b[38;5;28mmax\u001b[39m(klass\u001b[38;5;241m.\u001b[39m_meta_sniff_len, sniff_max), sniff)\n\u001b[1;32m    477\u001b[0m \u001b[38;5;28;01mif\u001b[39;00m sniff \u001b[38;5;129;01mis\u001b[39;00m \u001b[38;5;28;01mNone\u001b[39;00m \u001b[38;5;129;01mor\u001b[39;00m \u001b[38;5;28mlen\u001b[39m(sniff[\u001b[38;5;241m0\u001b[39m]) \u001b[38;5;241m<\u001b[39m klass\u001b[38;5;241m.\u001b[39m_meta_sniff_len:\n\u001b[1;32m    478\u001b[0m     \u001b[38;5;28;01mreturn\u001b[39;00m \u001b[38;5;28;01mFalse\u001b[39;00m, sniff\n",
      "File \u001b[0;32m/opt/anaconda3/lib/python3.12/site-packages/nibabel/filebasedimages.py:422\u001b[0m, in \u001b[0;36mFileBasedImage._sniff_meta_for\u001b[0;34m(klass, filename, sniff_nbytes, sniff)\u001b[0m\n\u001b[1;32m    420\u001b[0m \u001b[38;5;28;01mtry\u001b[39;00m:\n\u001b[1;32m    421\u001b[0m     \u001b[38;5;28;01mwith\u001b[39;00m ImageOpener(meta_fname, \u001b[38;5;124m'\u001b[39m\u001b[38;5;124mrb\u001b[39m\u001b[38;5;124m'\u001b[39m) \u001b[38;5;28;01mas\u001b[39;00m fobj:\n\u001b[0;32m--> 422\u001b[0m         binaryblock \u001b[38;5;241m=\u001b[39m fobj\u001b[38;5;241m.\u001b[39mread(sniff_nbytes)\n\u001b[1;32m    423\u001b[0m \u001b[38;5;28;01mexcept\u001b[39;00m COMPRESSION_ERRORS \u001b[38;5;241m+\u001b[39m (\u001b[38;5;167;01mOSError\u001b[39;00m, \u001b[38;5;167;01mEOFError\u001b[39;00m):\n\u001b[1;32m    424\u001b[0m     \u001b[38;5;28;01mreturn\u001b[39;00m \u001b[38;5;28;01mNone\u001b[39;00m\n",
      "File \u001b[0;32m/opt/anaconda3/lib/python3.12/site-packages/nibabel/openers.py:223\u001b[0m, in \u001b[0;36mOpener.read\u001b[0;34m(self, size)\u001b[0m\n\u001b[1;32m    222\u001b[0m \u001b[38;5;28;01mdef\u001b[39;00m \u001b[38;5;21mread\u001b[39m(\u001b[38;5;28mself\u001b[39m, size: \u001b[38;5;28mint\u001b[39m \u001b[38;5;241m=\u001b[39m \u001b[38;5;241m-\u001b[39m\u001b[38;5;241m1\u001b[39m, \u001b[38;5;241m/\u001b[39m) \u001b[38;5;241m-\u001b[39m\u001b[38;5;241m>\u001b[39m \u001b[38;5;28mbytes\u001b[39m:\n\u001b[0;32m--> 223\u001b[0m     \u001b[38;5;28;01mreturn\u001b[39;00m \u001b[38;5;28mself\u001b[39m\u001b[38;5;241m.\u001b[39mfobj\u001b[38;5;241m.\u001b[39mread(size)\n",
      "\u001b[0;31mKeyboardInterrupt\u001b[0m: "
     ]
    }
   ],
   "source": [
    "### 2) Parcellate using NiftiLabelsMasker\n",
    "\n",
    "#Settings for NiftiLabelsMasker\n",
    "\n",
    "masker = NiftiLabelsMasker( #class w variables and functions (e.g. fit_transform), \n",
    "#Preprocessing settings\n",
    "    labels_img=atlas,\n",
    "    standardize='zscore_sample', #\"zscore_sample\", #Z scores the voxels to make mean = 0\n",
    "    memory=\"nilearn_cache\",\n",
    "    verbose=5,\n",
    "#Temporal filter settings\n",
    "    high_pass=0.01,  # High pass frequency in Hz\n",
    "    low_pass=0.15,   # Low pass frequency in Hz\n",
    "    t_r=0.8         # Repetition time in seconds\n",
    "    ) \n",
    "\n",
    "time_series = masker.fit_transform(fmri_filename1) #array of shape (n_timepoints, n_labels), containing the \"parcel-mean\" values at each time point\n",
    "\n",
    "# Save parcellated data\n",
    "numpy.savetxt(fname='Schaefer_parcellated_test_sub.txt', X=time_series)"
   ]
  },
  {
   "cell_type": "code",
   "execution_count": null,
   "id": "d319affc-c68f-4131-a300-c8d4eaa68a8a",
   "metadata": {},
   "outputs": [],
   "source": [
    "### 3) Graph one ROI\n",
    "\n",
    "# Step 1: Load the Parcellated File (already nmuPy.ndarray with 327 rows (time), 100 columns(ROIs))\n",
    "file_path_roi = '/Users/judy/Schaefer_parcellated_test_sub.txt'\n",
    "roi_data = numpy.loadtxt(file_path_roi)\n",
    "\n",
    "# Step 2: Specify the coordinate of the ROI (x of graph)\n",
    "roi_coord = (99)  # Adjust these coordinates as needed\n",
    "\n",
    "# Step 4: Extract the time series for the specified voxel\n",
    "time_series_roi = roi_data[:, roi_coord]  # This will give you the time series\n",
    "\n",
    "# Step 5: Remove NaN values if present\n",
    "time_series_roi = time_series_roi[~numpy.isnan(time_series_roi)]\n",
    "\n",
    "# Step 6: Plot the line graph\n",
    "time_x_roi = numpy.arange(1,len(time_series_roi)+1)\n",
    "intensity_y_roi = time_series_roi\n",
    "\n",
    "plt.plot(time_x_roi, intensity_y_roi, color='g')\n",
    "\n",
    "plt.xlabel('Time (327 time points total)')\n",
    "plt.ylabel('Intensity of Activation')\n",
    "plt.title(f'Intensity of Activation of ROI #{roi_coord} Post-Schaefer parcellation, over Time')\n",
    "\n",
    "plt.show()"
   ]
  },
  {
   "cell_type": "code",
   "execution_count": 4,
   "id": "d84c3e8b-25ef-4516-bd19-02d5570ff9d1",
   "metadata": {},
   "outputs": [
    {
     "name": "stderr",
     "output_type": "stream",
     "text": [
      "/var/folders/mb/tl2bw2wx25s0mtjchj86ntzh0000gn/T/ipykernel_4195/1211537040.py:22: UserWarning: FigureCanvasAgg is non-interactive, and thus cannot be shown\n",
      "  plt.show()\n"
     ]
    }
   ],
   "source": [
    "# Force matplotlib to use the 'agg' backend (non-GUI)\n",
    "import matplotlib\n",
    "matplotlib.use('agg')\n",
    "\n",
    "# Then run your plot code\n",
    "import matplotlib.pyplot as plt\n",
    "import numpy as np\n",
    "\n",
    "# Create some data\n",
    "x = np.linspace(0, 10, 100)\n",
    "y = np.sin(x)\n",
    "\n",
    "# Plot the data\n",
    "plt.plot(x, y)\n",
    "\n",
    "# Add labels and title\n",
    "plt.title(\"Simple Sine Wave Plot\")\n",
    "plt.xlabel(\"X-axis\")\n",
    "plt.ylabel(\"Y-axis\")\n",
    "\n",
    "# Show the plot\n",
    "plt.show()\n"
   ]
  },
  {
   "cell_type": "code",
   "execution_count": 1,
   "id": "3bbc7e4e-55cf-42bc-a8d1-48ed26052fda",
   "metadata": {},
   "outputs": [
    {
     "name": "stdout",
     "output_type": "stream",
     "text": [
      "hel\n"
     ]
    }
   ],
   "source": [
    "print(\"hel\")"
   ]
  }
 ],
 "metadata": {
  "kernelspec": {
   "display_name": "Python 3 (ipykernel)",
   "language": "python",
   "name": "python3"
  },
  "language_info": {
   "codemirror_mode": {
    "name": "ipython",
    "version": 3
   },
   "file_extension": ".py",
   "mimetype": "text/x-python",
   "name": "python",
   "nbconvert_exporter": "python",
   "pygments_lexer": "ipython3",
   "version": "3.12.4"
  }
 },
 "nbformat": 4,
 "nbformat_minor": 5
}
